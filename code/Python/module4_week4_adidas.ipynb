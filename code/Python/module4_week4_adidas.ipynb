{
 "cells": [
  {
   "cell_type": "code",
   "execution_count": 1,
   "metadata": {},
   "outputs": [],
   "source": [
    "import warnings\n",
    "warnings.simplefilter(action='ignore', category=FutureWarning)\n",
    "import pandas as pd\n",
    "import numpy as np\n",
    "from scipy import stats\n",
    "import matplotlib.pyplot as plt\n",
    "%matplotlib inline\n",
    "import seaborn as sns\n",
    "import re\n",
    "sns.set()"
   ]
  },
  {
   "cell_type": "code",
   "execution_count": 2,
   "metadata": {},
   "outputs": [],
   "source": [
    "df=pd.read_csv(\"adidas-2.csv\")"
   ]
  },
  {
   "cell_type": "code",
   "execution_count": 3,
   "metadata": {},
   "outputs": [
    {
     "name": "stdout",
     "output_type": "stream",
     "text": [
      "<class 'pandas.core.frame.DataFrame'>\n",
      "RangeIndex: 3268 entries, 0 to 3267\n",
      "Data columns (total 10 columns):\n",
      "Product Name     3268 non-null object\n",
      "Product ID       3268 non-null object\n",
      "Listing Price    3268 non-null int64\n",
      "Sale Price       3268 non-null int64\n",
      "Discount         3268 non-null int64\n",
      "Brand            3268 non-null object\n",
      "Description      3265 non-null object\n",
      "Rating           3268 non-null float64\n",
      "Reviews          3268 non-null int64\n",
      "Last Visited     3268 non-null object\n",
      "dtypes: float64(1), int64(4), object(5)\n",
      "memory usage: 255.4+ KB\n"
     ]
    }
   ],
   "source": [
    "df.info()"
   ]
  },
  {
   "cell_type": "code",
   "execution_count": 4,
   "metadata": {},
   "outputs": [
    {
     "data": {
      "text/plain": [
       "(3268, 10)"
      ]
     },
     "execution_count": 4,
     "metadata": {},
     "output_type": "execute_result"
    }
   ],
   "source": [
    "df.shape"
   ]
  },
  {
   "cell_type": "code",
   "execution_count": 5,
   "metadata": {},
   "outputs": [
    {
     "data": {
      "text/html": [
       "<div>\n",
       "<style scoped>\n",
       "    .dataframe tbody tr th:only-of-type {\n",
       "        vertical-align: middle;\n",
       "    }\n",
       "\n",
       "    .dataframe tbody tr th {\n",
       "        vertical-align: top;\n",
       "    }\n",
       "\n",
       "    .dataframe thead th {\n",
       "        text-align: right;\n",
       "    }\n",
       "</style>\n",
       "<table border=\"1\" class=\"dataframe\">\n",
       "  <thead>\n",
       "    <tr style=\"text-align: right;\">\n",
       "      <th></th>\n",
       "      <th>Product Name</th>\n",
       "      <th>Product ID</th>\n",
       "      <th>Listing Price</th>\n",
       "      <th>Sale Price</th>\n",
       "      <th>Discount</th>\n",
       "      <th>Brand</th>\n",
       "      <th>Description</th>\n",
       "      <th>Rating</th>\n",
       "      <th>Reviews</th>\n",
       "      <th>Last Visited</th>\n",
       "    </tr>\n",
       "  </thead>\n",
       "  <tbody>\n",
       "    <tr>\n",
       "      <td>0</td>\n",
       "      <td>Women's adidas Originals NMD_Racer Primeknit S...</td>\n",
       "      <td>AH2430</td>\n",
       "      <td>14999</td>\n",
       "      <td>7499</td>\n",
       "      <td>50</td>\n",
       "      <td>Adidas Adidas ORIGINALS</td>\n",
       "      <td>Channeling the streamlined look of an '80s rac...</td>\n",
       "      <td>4.8</td>\n",
       "      <td>41</td>\n",
       "      <td>2020-04-13T15:06:14</td>\n",
       "    </tr>\n",
       "    <tr>\n",
       "      <td>1</td>\n",
       "      <td>Women's adidas Originals Sleek Shoes</td>\n",
       "      <td>G27341</td>\n",
       "      <td>7599</td>\n",
       "      <td>3799</td>\n",
       "      <td>50</td>\n",
       "      <td>Adidas ORIGINALS</td>\n",
       "      <td>A modern take on adidas sport heritage, tailor...</td>\n",
       "      <td>3.3</td>\n",
       "      <td>24</td>\n",
       "      <td>2020-04-13T15:06:15</td>\n",
       "    </tr>\n",
       "    <tr>\n",
       "      <td>2</td>\n",
       "      <td>Women's adidas Swim Puka Slippers</td>\n",
       "      <td>CM0081</td>\n",
       "      <td>999</td>\n",
       "      <td>599</td>\n",
       "      <td>40</td>\n",
       "      <td>Adidas CORE / NEO</td>\n",
       "      <td>These adidas Puka slippers for women's come wi...</td>\n",
       "      <td>2.6</td>\n",
       "      <td>37</td>\n",
       "      <td>2020-04-13T15:06:15</td>\n",
       "    </tr>\n",
       "    <tr>\n",
       "      <td>3</td>\n",
       "      <td>Women's adidas Sport Inspired Questar Ride Shoes</td>\n",
       "      <td>B44832</td>\n",
       "      <td>6999</td>\n",
       "      <td>3499</td>\n",
       "      <td>50</td>\n",
       "      <td>Adidas CORE / NEO</td>\n",
       "      <td>Inspired by modern tech runners, these women's...</td>\n",
       "      <td>4.1</td>\n",
       "      <td>35</td>\n",
       "      <td>2020-04-13T15:06:15</td>\n",
       "    </tr>\n",
       "    <tr>\n",
       "      <td>4</td>\n",
       "      <td>Women's adidas Originals Taekwondo Shoes</td>\n",
       "      <td>D98205</td>\n",
       "      <td>7999</td>\n",
       "      <td>3999</td>\n",
       "      <td>50</td>\n",
       "      <td>Adidas ORIGINALS</td>\n",
       "      <td>This design is inspired by vintage Taekwondo s...</td>\n",
       "      <td>3.5</td>\n",
       "      <td>72</td>\n",
       "      <td>2020-04-13T15:06:15</td>\n",
       "    </tr>\n",
       "  </tbody>\n",
       "</table>\n",
       "</div>"
      ],
      "text/plain": [
       "                                        Product Name Product ID  \\\n",
       "0  Women's adidas Originals NMD_Racer Primeknit S...     AH2430   \n",
       "1               Women's adidas Originals Sleek Shoes     G27341   \n",
       "2                  Women's adidas Swim Puka Slippers     CM0081   \n",
       "3   Women's adidas Sport Inspired Questar Ride Shoes     B44832   \n",
       "4           Women's adidas Originals Taekwondo Shoes     D98205   \n",
       "\n",
       "   Listing Price  Sale Price  Discount                    Brand  \\\n",
       "0          14999        7499        50  Adidas Adidas ORIGINALS   \n",
       "1           7599        3799        50         Adidas ORIGINALS   \n",
       "2            999         599        40        Adidas CORE / NEO   \n",
       "3           6999        3499        50        Adidas CORE / NEO   \n",
       "4           7999        3999        50         Adidas ORIGINALS   \n",
       "\n",
       "                                         Description  Rating  Reviews  \\\n",
       "0  Channeling the streamlined look of an '80s rac...     4.8       41   \n",
       "1  A modern take on adidas sport heritage, tailor...     3.3       24   \n",
       "2  These adidas Puka slippers for women's come wi...     2.6       37   \n",
       "3  Inspired by modern tech runners, these women's...     4.1       35   \n",
       "4  This design is inspired by vintage Taekwondo s...     3.5       72   \n",
       "\n",
       "          Last Visited  \n",
       "0  2020-04-13T15:06:14  \n",
       "1  2020-04-13T15:06:15  \n",
       "2  2020-04-13T15:06:15  \n",
       "3  2020-04-13T15:06:15  \n",
       "4  2020-04-13T15:06:15  "
      ]
     },
     "execution_count": 5,
     "metadata": {},
     "output_type": "execute_result"
    }
   ],
   "source": [
    "df.head()"
   ]
  },
  {
   "cell_type": "code",
   "execution_count": 6,
   "metadata": {},
   "outputs": [
    {
     "data": {
      "text/html": [
       "<div>\n",
       "<style scoped>\n",
       "    .dataframe tbody tr th:only-of-type {\n",
       "        vertical-align: middle;\n",
       "    }\n",
       "\n",
       "    .dataframe tbody tr th {\n",
       "        vertical-align: top;\n",
       "    }\n",
       "\n",
       "    .dataframe thead th {\n",
       "        text-align: right;\n",
       "    }\n",
       "</style>\n",
       "<table border=\"1\" class=\"dataframe\">\n",
       "  <thead>\n",
       "    <tr style=\"text-align: right;\">\n",
       "      <th></th>\n",
       "      <th>Listing Price</th>\n",
       "      <th>Sale Price</th>\n",
       "      <th>Discount</th>\n",
       "      <th>Rating</th>\n",
       "      <th>Reviews</th>\n",
       "    </tr>\n",
       "  </thead>\n",
       "  <tbody>\n",
       "    <tr>\n",
       "      <td>count</td>\n",
       "      <td>3268.000000</td>\n",
       "      <td>3268.000000</td>\n",
       "      <td>3268.000000</td>\n",
       "      <td>3268.000000</td>\n",
       "      <td>3268.000000</td>\n",
       "    </tr>\n",
       "    <tr>\n",
       "      <td>mean</td>\n",
       "      <td>6868.020196</td>\n",
       "      <td>6134.265606</td>\n",
       "      <td>26.875765</td>\n",
       "      <td>3.242105</td>\n",
       "      <td>40.551714</td>\n",
       "    </tr>\n",
       "    <tr>\n",
       "      <td>std</td>\n",
       "      <td>4724.659386</td>\n",
       "      <td>4293.247581</td>\n",
       "      <td>22.633487</td>\n",
       "      <td>1.428856</td>\n",
       "      <td>31.543491</td>\n",
       "    </tr>\n",
       "    <tr>\n",
       "      <td>min</td>\n",
       "      <td>0.000000</td>\n",
       "      <td>449.000000</td>\n",
       "      <td>0.000000</td>\n",
       "      <td>0.000000</td>\n",
       "      <td>0.000000</td>\n",
       "    </tr>\n",
       "    <tr>\n",
       "      <td>25%</td>\n",
       "      <td>4299.000000</td>\n",
       "      <td>2999.000000</td>\n",
       "      <td>0.000000</td>\n",
       "      <td>2.600000</td>\n",
       "      <td>10.000000</td>\n",
       "    </tr>\n",
       "    <tr>\n",
       "      <td>50%</td>\n",
       "      <td>5999.000000</td>\n",
       "      <td>4799.000000</td>\n",
       "      <td>40.000000</td>\n",
       "      <td>3.500000</td>\n",
       "      <td>37.000000</td>\n",
       "    </tr>\n",
       "    <tr>\n",
       "      <td>75%</td>\n",
       "      <td>8999.000000</td>\n",
       "      <td>7995.000000</td>\n",
       "      <td>50.000000</td>\n",
       "      <td>4.400000</td>\n",
       "      <td>68.000000</td>\n",
       "    </tr>\n",
       "    <tr>\n",
       "      <td>max</td>\n",
       "      <td>29999.000000</td>\n",
       "      <td>36500.000000</td>\n",
       "      <td>60.000000</td>\n",
       "      <td>5.000000</td>\n",
       "      <td>223.000000</td>\n",
       "    </tr>\n",
       "  </tbody>\n",
       "</table>\n",
       "</div>"
      ],
      "text/plain": [
       "       Listing Price    Sale Price     Discount       Rating      Reviews\n",
       "count    3268.000000   3268.000000  3268.000000  3268.000000  3268.000000\n",
       "mean     6868.020196   6134.265606    26.875765     3.242105    40.551714\n",
       "std      4724.659386   4293.247581    22.633487     1.428856    31.543491\n",
       "min         0.000000    449.000000     0.000000     0.000000     0.000000\n",
       "25%      4299.000000   2999.000000     0.000000     2.600000    10.000000\n",
       "50%      5999.000000   4799.000000    40.000000     3.500000    37.000000\n",
       "75%      8999.000000   7995.000000    50.000000     4.400000    68.000000\n",
       "max     29999.000000  36500.000000    60.000000     5.000000   223.000000"
      ]
     },
     "execution_count": 6,
     "metadata": {},
     "output_type": "execute_result"
    }
   ],
   "source": [
    "df.describe()"
   ]
  },
  {
   "cell_type": "code",
   "execution_count": 7,
   "metadata": {
    "scrolled": false
   },
   "outputs": [
    {
     "data": {
      "text/plain": [
       "CD6720-808    3\n",
       "CT3110-400    2\n",
       "BQ3177-100    2\n",
       "844127-108    2\n",
       "AT8000-104    2\n",
       "             ..\n",
       "CL7607        1\n",
       "B37469        1\n",
       "CQ2035        1\n",
       "CL7453        1\n",
       "EE7155        1\n",
       "Name: Product ID, Length: 3179, dtype: int64"
      ]
     },
     "execution_count": 7,
     "metadata": {},
     "output_type": "execute_result"
    }
   ],
   "source": [
    "df['Product ID'].value_counts()"
   ]
  },
  {
   "cell_type": "code",
   "execution_count": 8,
   "metadata": {
    "scrolled": false
   },
   "outputs": [],
   "source": [
    "df1=df.drop_duplicates(subset =\"Product ID\", keep = 'last')"
   ]
  },
  {
   "cell_type": "code",
   "execution_count": 9,
   "metadata": {},
   "outputs": [
    {
     "data": {
      "text/plain": [
       "(3179, 10)"
      ]
     },
     "execution_count": 9,
     "metadata": {},
     "output_type": "execute_result"
    }
   ],
   "source": [
    "df1.shape"
   ]
  },
  {
   "cell_type": "code",
   "execution_count": 21,
   "metadata": {
    "scrolled": true
   },
   "outputs": [
    {
     "data": {
      "text/plain": [
       "Adidas CORE / NEO           1111\n",
       "Adidas ORIGINALS             907\n",
       "Adidas SPORT PERFORMANCE     606\n",
       "Nike                         554\n",
       "Adidas Adidas ORIGINALS        1\n",
       "Name: Brand, dtype: int64"
      ]
     },
     "execution_count": 21,
     "metadata": {},
     "output_type": "execute_result"
    }
   ],
   "source": [
    "df1['Brand'].value_counts()"
   ]
  },
  {
   "cell_type": "code",
   "execution_count": 31,
   "metadata": {},
   "outputs": [
    {
     "data": {
      "text/html": [
       "<div>\n",
       "<style scoped>\n",
       "    .dataframe tbody tr th:only-of-type {\n",
       "        vertical-align: middle;\n",
       "    }\n",
       "\n",
       "    .dataframe tbody tr th {\n",
       "        vertical-align: top;\n",
       "    }\n",
       "\n",
       "    .dataframe thead th {\n",
       "        text-align: right;\n",
       "    }\n",
       "</style>\n",
       "<table border=\"1\" class=\"dataframe\">\n",
       "  <thead>\n",
       "    <tr style=\"text-align: right;\">\n",
       "      <th></th>\n",
       "      <th>Listing Price</th>\n",
       "      <th>Sale Price</th>\n",
       "      <th>Discount</th>\n",
       "      <th>Rating</th>\n",
       "      <th>Reviews</th>\n",
       "    </tr>\n",
       "    <tr>\n",
       "      <th>Brand</th>\n",
       "      <th></th>\n",
       "      <th></th>\n",
       "      <th></th>\n",
       "      <th></th>\n",
       "      <th></th>\n",
       "    </tr>\n",
       "  </thead>\n",
       "  <tbody>\n",
       "    <tr>\n",
       "      <td>Adidas Adidas ORIGINALS</td>\n",
       "      <td>14999.000000</td>\n",
       "      <td>7499.000000</td>\n",
       "      <td>50.000000</td>\n",
       "      <td>4.800000</td>\n",
       "      <td>41.000000</td>\n",
       "    </tr>\n",
       "    <tr>\n",
       "      <td>Adidas CORE / NEO</td>\n",
       "      <td>4951.835284</td>\n",
       "      <td>3116.212421</td>\n",
       "      <td>36.300630</td>\n",
       "      <td>3.412331</td>\n",
       "      <td>48.205221</td>\n",
       "    </tr>\n",
       "    <tr>\n",
       "      <td>Adidas ORIGINALS</td>\n",
       "      <td>9814.766262</td>\n",
       "      <td>6811.679162</td>\n",
       "      <td>31.113561</td>\n",
       "      <td>3.321940</td>\n",
       "      <td>49.286659</td>\n",
       "    </tr>\n",
       "    <tr>\n",
       "      <td>Adidas SPORT PERFORMANCE</td>\n",
       "      <td>9132.168317</td>\n",
       "      <td>6322.742574</td>\n",
       "      <td>31.732673</td>\n",
       "      <td>3.346205</td>\n",
       "      <td>48.853135</td>\n",
       "    </tr>\n",
       "    <tr>\n",
       "      <td>Nike</td>\n",
       "      <td>4097.906137</td>\n",
       "      <td>10248.445848</td>\n",
       "      <td>0.000000</td>\n",
       "      <td>2.791516</td>\n",
       "      <td>7.476534</td>\n",
       "    </tr>\n",
       "  </tbody>\n",
       "</table>\n",
       "</div>"
      ],
      "text/plain": [
       "                          Listing Price    Sale Price   Discount    Rating  \\\n",
       "Brand                                                                        \n",
       "Adidas Adidas ORIGINALS    14999.000000   7499.000000  50.000000  4.800000   \n",
       "Adidas CORE / NEO           4951.835284   3116.212421  36.300630  3.412331   \n",
       "Adidas ORIGINALS            9814.766262   6811.679162  31.113561  3.321940   \n",
       "Adidas SPORT PERFORMANCE    9132.168317   6322.742574  31.732673  3.346205   \n",
       "Nike                        4097.906137  10248.445848   0.000000  2.791516   \n",
       "\n",
       "                            Reviews  \n",
       "Brand                                \n",
       "Adidas Adidas ORIGINALS   41.000000  \n",
       "Adidas CORE / NEO         48.205221  \n",
       "Adidas ORIGINALS          49.286659  \n",
       "Adidas SPORT PERFORMANCE  48.853135  \n",
       "Nike                       7.476534  "
      ]
     },
     "execution_count": 31,
     "metadata": {},
     "output_type": "execute_result"
    }
   ],
   "source": [
    "df1.groupby('Brand').mean()"
   ]
  },
  {
   "cell_type": "code",
   "execution_count": 24,
   "metadata": {},
   "outputs": [
    {
     "data": {
      "image/png": "[encoded data removed]",
      "text/plain": [
       "<Figure size 432x288 with 1 Axes>"
      ]
     },
     "metadata": {},
     "output_type": "display_data"
    }
   ],
   "source": [
    "label = ['Adidas CORE/NEO ','Adidas ORIGINALS','Adidas SPORT PERFORMANCE','Adidas Adidas ORIGINALS','Nike']\n",
    "plt.pie(df1['Brand'].value_counts(),labels=label)\n",
    "plt.show()"
   ]
  },
  {
   "cell_type": "code",
   "execution_count": 36,
   "metadata": {},
   "outputs": [
    {
     "data": {
      "text/plain": [
       "Brand\n",
       "Adidas Adidas ORIGINALS      7499.000000\n",
       "Adidas CORE / NEO            3116.212421\n",
       "Adidas ORIGINALS             6811.679162\n",
       "Adidas SPORT PERFORMANCE     6322.742574\n",
       "Nike                        10248.445848\n",
       "Name: Sale Price, dtype: float64"
      ]
     },
     "execution_count": 36,
     "metadata": {},
     "output_type": "execute_result"
    }
   ],
   "source": [
    "df2=df1.groupby('Brand').mean()\n",
    "df3=df2['Sale Price']\n",
    "df3"
   ]
  },
  {
   "cell_type": "code",
   "execution_count": 40,
   "metadata": {},
   "outputs": [
    {
     "data": {
      "text/plain": [
       "<matplotlib.axes._subplots.AxesSubplot at 0x2b765aa52d90>"
      ]
     },
     "execution_count": 40,
     "metadata": {},
     "output_type": "execute_result"
    },
    {
     "data": {
      "image/png": "[encoded data removed]",
      "text/plain": [
       "<Figure size 432x288 with 1 Axes>"
      ]
     },
     "metadata": {
      "needs_background": "light"
     },
     "output_type": "display_data"
    }
   ],
   "source": [
    "df3.plot.bar()"
   ]
  },
  {
   "cell_type": "code",
   "execution_count": null,
   "metadata": {},
   "outputs": [],
   "source": []
  },
  {
   "cell_type": "code",
   "execution_count": null,
   "metadata": {
    "scrolled": true
   },
   "outputs": [],
   "source": []
  },
  {
   "cell_type": "code",
   "execution_count": null,
   "metadata": {},
   "outputs": [],
   "source": []
  },
  {
   "cell_type": "code",
   "execution_count": null,
   "metadata": {},
   "outputs": [],
   "source": []
  },
  {
   "cell_type": "code",
   "execution_count": null,
   "metadata": {},
   "outputs": [],
   "source": []
  }
 ],
 "metadata": {
  "kernelspec": {
   "display_name": "Python 3",
   "language": "python",
   "name": "python3"
  },
  "language_info": {
   "codemirror_mode": {
    "name": "ipython",
    "version": 3
   },
   "file_extension": ".py",
   "mimetype": "text/x-python",
   "name": "python",
   "nbconvert_exporter": "python",
   "pygments_lexer": "ipython3",
   "version": "3.7.4"
  }
 },
 "nbformat": 4,
 "nbformat_minor": 2
}
