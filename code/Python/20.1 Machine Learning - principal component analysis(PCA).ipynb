{
 "cells": [
  {
   "cell_type": "code",
   "execution_count": 1,
   "id": "3c5f7d2b-4c5b-4505-85c9-d27333976771",
   "metadata": {},
   "outputs": [],
   "source": [
    "import numpy as np\n",
    "import pandas as pd\n",
    "\n",
    "from pandas import Series, DataFrame\n",
    " \n",
    "\n",
    "import sklearn \n",
    "from sklearn import datasets\n",
    "\n",
    "from sklearn.preprocessing import StandardScaler\n",
    "from sklearn.model_selection import train_test_split\n",
    "from sklearn.metrics import confusion_matrix, classification_report\n",
    "\n",
    "from sklearn. linear_model import Perceptron"
   ]
  },
  {
   "cell_type": "code",
   "execution_count": 2,
   "id": "b07ad1c1-a9fa-4ca9-ab13-3b814a7f756b",
   "metadata": {},
   "outputs": [
    {
     "data": {
      "text/plain": [
       "array([[5.1, 3.5, 1.4, 0.2],\n",
       "       [4.9, 3. , 1.4, 0.2],\n",
       "       [4.7, 3.2, 1.3, 0.2],\n",
       "       [4.6, 3.1, 1.5, 0.2],\n",
       "       [5. , 3.6, 1.4, 0.2],\n",
       "       [5.4, 3.9, 1.7, 0.4],\n",
       "       [4.6, 3.4, 1.4, 0.3],\n",
       "       [5. , 3.4, 1.5, 0.2],\n",
       "       [4.4, 2.9, 1.4, 0.2],\n",
       "       [4.9, 3.1, 1.5, 0.1]])"
      ]
     },
     "execution_count": 2,
     "metadata": {},
     "output_type": "execute_result"
    }
   ],
   "source": [
    "iris=datasets.load_iris()\n",
    "X = iris.data\n",
    "y = iris.target\n",
    "\n",
    "X[0:10,]"
   ]
  },
  {
   "cell_type": "code",
   "execution_count": 3,
   "id": "e7bf2d3c-009e-4cba-bbff-dcadfc112257",
   "metadata": {},
   "outputs": [],
   "source": [
    "x_train, x_test, y_train, y_test = train_test_split(X, y, test_size=0.2)"
   ]
  },
  {
   "cell_type": "code",
   "execution_count": 6,
   "id": "a2bb29b6-6bf2-45fa-bea4-e1edd8fd0b50",
   "metadata": {},
   "outputs": [],
   "source": [
    "standardize = StandardScaler()\n",
    "\n",
    "standardized_x_test = standardize.fit_transform(x_test)\n",
    "standardized_x_train = standardize.fit_transform(x_train)"
   ]
  },
  {
   "cell_type": "code",
   "execution_count": 7,
   "id": "fa24e665-4c72-4e3f-9adb-bb7218e63e2f",
   "metadata": {},
   "outputs": [
    {
     "data": {
      "text/plain": [
       "array([[-1.03226633, -1.03448446, -0.07506659,  0.0701215 ],\n",
       "       [ 0.99256378,  0.05444655,  0.60053274,  1.25342187],\n",
       "       [ 0.03970255, -0.76225171, -0.01876665, -0.06135632],\n",
       "       [-1.15137398,  1.96007582, -1.42626526, -1.3761345 ],\n",
       "       [ 0.27791786, -0.76225171,  0.60053274,  0.20159932],\n",
       "       [ 0.75434847, -0.2177862 ,  0.65683268,  1.25342187],\n",
       "       [-1.15137398,  1.68784307, -1.42626526, -1.24465668],\n",
       "       [-0.19851276,  0.3266793 ,  0.43163291,  0.59603278],\n",
       "       [ 1.945425  , -1.30671722,  1.61393174,  1.25342187],\n",
       "       [ 1.945425  , -0.76225171,  1.50133185,  0.85898841]])"
      ]
     },
     "execution_count": 7,
     "metadata": {},
     "output_type": "execute_result"
    }
   ],
   "source": [
    " standardized_x_test[0:10]"
   ]
  },
  {
   "cell_type": "code",
   "execution_count": 10,
   "id": "39b0afd2-ebae-4a84-a6e1-3eeb4d925106",
   "metadata": {},
   "outputs": [
    {
     "data": {
      "text/plain": [
       "Perceptron(eta0=0.15, max_iter=50, random_state=15)"
      ]
     },
     "execution_count": 10,
     "metadata": {},
     "output_type": "execute_result"
    }
   ],
   "source": [
    "perceptron = Perceptron(max_iter=50, eta0=0.15, tol=1e-3, random_state=15)\n",
    "\n",
    "perceptron.fit(standardized_x_train, y_train.ravel())"
   ]
  },
  {
   "cell_type": "code",
   "execution_count": 12,
   "id": "507c23ce-b5be-45f6-bedf-7a2262f6c27d",
   "metadata": {},
   "outputs": [],
   "source": [
    "y_pred = perceptron.predict(standardized_x_test)"
   ]
  },
  {
   "cell_type": "code",
   "execution_count": 13,
   "id": "7561a5d0-95ea-40fd-89f3-487b84a27e4e",
   "metadata": {},
   "outputs": [
    {
     "name": "stdout",
     "output_type": "stream",
     "text": [
      "[1 2 1 0 1 2 0 1 1 1 0 2 1 1 2 2 0 1 1 1 1 0 1 1 1 0 1 0 0 1]\n"
     ]
    }
   ],
   "source": [
    "print(y_pred)"
   ]
  },
  {
   "cell_type": "code",
   "execution_count": 14,
   "id": "ee2339cd-019e-43fe-be1c-4cb3b63ee379",
   "metadata": {},
   "outputs": [
    {
     "name": "stdout",
     "output_type": "stream",
     "text": [
      "[1 2 1 0 2 2 0 1 2 2 0 2 1 1 2 2 0 1 1 1 2 0 1 1 1 0 2 0 0 2]\n"
     ]
    }
   ],
   "source": [
    "print(y_test)"
   ]
  },
  {
   "cell_type": "code",
   "execution_count": 16,
   "id": "94e25f66-e94c-447a-bc2a-3c153af0c279",
   "metadata": {},
   "outputs": [
    {
     "name": "stdout",
     "output_type": "stream",
     "text": [
      "              precision    recall  f1-score   support\n",
      "\n",
      "           0       1.00      1.00      1.00         8\n",
      "           1       0.65      1.00      0.79        11\n",
      "           2       1.00      0.45      0.62        11\n",
      "\n",
      "    accuracy                           0.80        30\n",
      "   macro avg       0.88      0.82      0.80        30\n",
      "weighted avg       0.87      0.80      0.78        30\n",
      "\n"
     ]
    }
   ],
   "source": [
    "print(classification_report(y_test, y_pred))"
   ]
  },
  {
   "cell_type": "code",
   "execution_count": null,
   "id": "fa0f0064-f091-4e6f-bf52-6c59673ba178",
   "metadata": {},
   "outputs": [],
   "source": []
  }
 ],
 "metadata": {
  "kernelspec": {
   "display_name": "Python 3 (ipykernel)",
   "language": "python",
   "name": "python3"
  },
  "language_info": {
   "codemirror_mode": {
    "name": "ipython",
    "version": 3
   },
   "file_extension": ".py",
   "mimetype": "text/x-python",
   "name": "python",
   "nbconvert_exporter": "python",
   "pygments_lexer": "ipython3",
   "version": "3.9.7"
  }
 },
 "nbformat": 4,
 "nbformat_minor": 5
}
