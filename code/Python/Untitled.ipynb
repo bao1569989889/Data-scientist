{
 "cells": [
  {
   "cell_type": "code",
   "execution_count": 1,
   "id": "9230c50c-7ada-434e-a640-dea0a8ecb833",
   "metadata": {},
   "outputs": [
    {
     "name": "stdout",
     "output_type": "stream",
     "text": [
      "3.9.7 (default, Sep 16 2021, 08:50:36) \n",
      "[Clang 10.0.0 ]\n"
     ]
    }
   ],
   "source": [
    "import sys\n",
    "print(sys.version)"
   ]
  },
  {
   "cell_type": "code",
   "execution_count": 2,
   "id": "a8dc320e-ac8b-47b7-8716-62b11cada2c5",
   "metadata": {},
   "outputs": [],
   "source": [
    "Name = \"Michael Jackson\""
   ]
  },
  {
   "cell_type": "code",
   "execution_count": 3,
   "id": "46a39ec1-fbeb-454a-8f52-48e2620d692f",
   "metadata": {},
   "outputs": [
    {
     "data": {
      "text/plain": [
       "'McalJcsn'"
      ]
     },
     "execution_count": 3,
     "metadata": {},
     "output_type": "execute_result"
    }
   ],
   "source": [
    "Name[::2] # show every second letters"
   ]
  },
  {
   "cell_type": "code",
   "execution_count": 4,
   "id": "3297a1fc-fded-4ab7-8e42-88e6ef262d2d",
   "metadata": {},
   "outputs": [
    {
     "data": {
      "text/plain": [
       "'Mca'"
      ]
     },
     "execution_count": 4,
     "metadata": {},
     "output_type": "execute_result"
    }
   ],
   "source": [
    "Name[0:5:2] # only show every secind values up to index four"
   ]
  },
  {
   "cell_type": "code",
   "execution_count": 5,
   "id": "4d741dd6-eff8-4af6-a6d5-794e3502fb3c",
   "metadata": {},
   "outputs": [
    {
     "data": {
      "text/plain": [
       "15"
      ]
     },
     "execution_count": 5,
     "metadata": {},
     "output_type": "execute_result"
    }
   ],
   "source": [
    "len(Name) # length of variable"
   ]
  },
  {
   "cell_type": "code",
   "execution_count": 6,
   "id": "e3d60ca8-27e1-4f6a-a5b7-a5bef1755a90",
   "metadata": {},
   "outputs": [],
   "source": [
    "A = \"Thriller is the sixth studio album\""
   ]
  },
  {
   "cell_type": "code",
   "execution_count": 7,
   "id": "9c28e0d3-579f-42f0-a12a-114b6a607883",
   "metadata": {},
   "outputs": [
    {
     "data": {
      "text/plain": [
       "'THRILLER IS THE SIXTH STUDIO ALBUM'"
      ]
     },
     "execution_count": 7,
     "metadata": {},
     "output_type": "execute_result"
    }
   ],
   "source": [
    "B = A.upper()\n",
    "B"
   ]
  },
  {
   "cell_type": "code",
   "execution_count": 8,
   "id": "d08ce548-c6a1-4189-986e-d16fa59bbca3",
   "metadata": {},
   "outputs": [],
   "source": [
    "A = 'Michael Jackson is the best'"
   ]
  },
  {
   "cell_type": "code",
   "execution_count": 9,
   "id": "a8ecebd5-b02b-41ea-990b-897d559d60dd",
   "metadata": {},
   "outputs": [
    {
     "data": {
      "text/plain": [
       "'Janet Jackson is the best'"
      ]
     },
     "execution_count": 9,
     "metadata": {},
     "output_type": "execute_result"
    }
   ],
   "source": [
    "B = A.replace('Michael','Janet')\n",
    "B"
   ]
  },
  {
   "cell_type": "code",
   "execution_count": 10,
   "id": "eaabb381-5433-48a7-a286-aab78ef6b453",
   "metadata": {},
   "outputs": [
    {
     "data": {
      "text/plain": [
       "8"
      ]
     },
     "execution_count": 10,
     "metadata": {},
     "output_type": "execute_result"
    }
   ],
   "source": [
    "Name.find('Jack')"
   ]
  },
  {
   "cell_type": "code",
   "execution_count": 12,
   "id": "4a918ee3-45d5-4539-8418-5363bd68878a",
   "metadata": {},
   "outputs": [
    {
     "data": {
      "text/plain": [
       "-1"
      ]
     },
     "execution_count": 12,
     "metadata": {},
     "output_type": "execute_result"
    }
   ],
   "source": [
    "# If cannot find the substring in the string, it will back -1\n",
    "\n",
    "Name.find('Jasdfasdasdf')"
   ]
  },
  {
   "cell_type": "code",
   "execution_count": null,
   "id": "89b4a1ea-a8dc-474b-aa8f-730eac782b80",
   "metadata": {},
   "outputs": [],
   "source": []
  }
 ],
 "metadata": {
  "kernelspec": {
   "display_name": "Python 3 (ipykernel)",
   "language": "python",
   "name": "python3"
  },
  "language_info": {
   "codemirror_mode": {
    "name": "ipython",
    "version": 3
   },
   "file_extension": ".py",
   "mimetype": "text/x-python",
   "name": "python",
   "nbconvert_exporter": "python",
   "pygments_lexer": "ipython3",
   "version": "3.9.7"
  }
 },
 "nbformat": 4,
 "nbformat_minor": 5
}
